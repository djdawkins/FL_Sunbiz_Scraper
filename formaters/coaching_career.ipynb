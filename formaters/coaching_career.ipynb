{
 "cells": [
  {
   "cell_type": "code",
   "execution_count": 8,
   "metadata": {},
   "outputs": [],
   "source": [
    "import pandas as pd\n",
    "import spacy\n",
    "import os\n",
    "# from spacy import displacy\n",
    "# from spacy.pipeline.ner import DEFAULT_NER_MODEL\n",
    "# pd.set_option('mode.chained_assignment', None)"
   ]
  },
  {
   "cell_type": "code",
   "execution_count": 9,
   "metadata": {},
   "outputs": [
    {
     "data": {
      "text/plain": [
       "'c:\\\\Users\\\\ddawk\\\\Downloads\\\\fl-sunbiz-scraper\\\\formaters'"
      ]
     },
     "execution_count": 9,
     "metadata": {},
     "output_type": "execute_result"
    }
   ],
   "source": [
    "os.getcwd()\n",
    "C:\\Users\\ddawk\\Downloads\\fl-sunbiz-scraper\\scraped_data\\coach_details.csv"
   ]
  },
  {
   "cell_type": "code",
   "execution_count": 13,
   "metadata": {},
   "outputs": [
    {
     "data": {
      "text/html": [
       "<div>\n",
       "<style scoped>\n",
       "    .dataframe tbody tr th:only-of-type {\n",
       "        vertical-align: middle;\n",
       "    }\n",
       "\n",
       "    .dataframe tbody tr th {\n",
       "        vertical-align: top;\n",
       "    }\n",
       "\n",
       "    .dataframe thead th {\n",
       "        text-align: right;\n",
       "    }\n",
       "</style>\n",
       "<table border=\"1\" class=\"dataframe\">\n",
       "  <thead>\n",
       "    <tr style=\"text-align: right;\">\n",
       "      <th></th>\n",
       "      <th>i_header</th>\n",
       "      <th>i_label</th>\n",
       "      <th>i_data</th>\n",
       "      <th>title</th>\n",
       "      <th>link</th>\n",
       "      <th>coach_name</th>\n",
       "      <th>id</th>\n",
       "    </tr>\n",
       "  </thead>\n",
       "  <tbody>\n",
       "    <tr>\n",
       "      <th>5</th>\n",
       "      <td>Coaching career (HC unless noted)</td>\n",
       "      <td>1999</td>\n",
       "      <td>Bolles School (FL) (GA)</td>\n",
       "      <td>The Bolles School</td>\n",
       "      <td>/wiki/The_Bolles_School</td>\n",
       "      <td>Ryan Silverfield</td>\n",
       "      <td>Q80119196</td>\n",
       "    </tr>\n",
       "    <tr>\n",
       "      <th>6</th>\n",
       "      <td>Coaching career (HC unless noted)</td>\n",
       "      <td>1999</td>\n",
       "      <td>Bolles School (FL) (GA)</td>\n",
       "      <td>Graduate assistant</td>\n",
       "      <td>/wiki/Graduate_assistant</td>\n",
       "      <td>Ryan Silverfield</td>\n",
       "      <td>Q80119196</td>\n",
       "    </tr>\n",
       "    <tr>\n",
       "      <th>7</th>\n",
       "      <td>Coaching career (HC unless noted)</td>\n",
       "      <td>2000</td>\n",
       "      <td>Hampden–Sydney (off. asst.)</td>\n",
       "      <td>Hampden–Sydney Tigers football</td>\n",
       "      <td>/wiki/Hampden%E2%80%93Sydney_Tigers_football</td>\n",
       "      <td>Ryan Silverfield</td>\n",
       "      <td>Q80119196</td>\n",
       "    </tr>\n",
       "    <tr>\n",
       "      <th>8</th>\n",
       "      <td>Coaching career (HC unless noted)</td>\n",
       "      <td>2001–2002</td>\n",
       "      <td>Hampden–Sydney (DL)</td>\n",
       "      <td>NaN</td>\n",
       "      <td>NaN</td>\n",
       "      <td>Ryan Silverfield</td>\n",
       "      <td>Q80119196</td>\n",
       "    </tr>\n",
       "    <tr>\n",
       "      <th>9</th>\n",
       "      <td>Coaching career (HC unless noted)</td>\n",
       "      <td>2003</td>\n",
       "      <td>Hampden–Sydney (TE)</td>\n",
       "      <td>NaN</td>\n",
       "      <td>NaN</td>\n",
       "      <td>Ryan Silverfield</td>\n",
       "      <td>Q80119196</td>\n",
       "    </tr>\n",
       "  </tbody>\n",
       "</table>\n",
       "</div>"
      ],
      "text/plain": [
       "                            i_header    i_label                       i_data  \\\n",
       "5  Coaching career (HC unless noted)       1999      Bolles School (FL) (GA)   \n",
       "6  Coaching career (HC unless noted)       1999      Bolles School (FL) (GA)   \n",
       "7  Coaching career (HC unless noted)       2000  Hampden–Sydney (off. asst.)   \n",
       "8  Coaching career (HC unless noted)  2001–2002          Hampden–Sydney (DL)   \n",
       "9  Coaching career (HC unless noted)       2003          Hampden–Sydney (TE)   \n",
       "\n",
       "                            title  \\\n",
       "5               The Bolles School   \n",
       "6              Graduate assistant   \n",
       "7  Hampden–Sydney Tigers football   \n",
       "8                             NaN   \n",
       "9                             NaN   \n",
       "\n",
       "                                           link        coach_name         id  \n",
       "5                       /wiki/The_Bolles_School  Ryan Silverfield  Q80119196  \n",
       "6                      /wiki/Graduate_assistant  Ryan Silverfield  Q80119196  \n",
       "7  /wiki/Hampden%E2%80%93Sydney_Tigers_football  Ryan Silverfield  Q80119196  \n",
       "8                                           NaN  Ryan Silverfield  Q80119196  \n",
       "9                                           NaN  Ryan Silverfield  Q80119196  "
      ]
     },
     "execution_count": 13,
     "metadata": {},
     "output_type": "execute_result"
    }
   ],
   "source": [
    "hc_relationship_df = pd.read_csv('../scraped_data/coach_details.csv')\n",
    "coach_career = hc_relationship_df[hc_relationship_df.i_header == \"Coaching career (HC unless noted)\"]\n",
    "\n",
    "coach_career = coach_career.iloc[: , 1:]\n",
    "coach_career.head()"
   ]
  },
  {
   "cell_type": "code",
   "execution_count": null,
   "metadata": {},
   "outputs": [],
   "source": [
    "\n",
    "coach_career[[\"org\", \"role_1\", \"role_2\"]] = coach_career.i_data.str.split(r'\\(', expand=True)\n",
    "\n",
    "coach_career[\"role\"] = (coach_career.role_2).where(coach_career.role_2.notna(), coach_career.role_1)\n",
    "\n",
    "coach_career[\"org\"] = coach_career.org.str.replace(')','')\n",
    "coach_career[\"org\"] = coach_career.org.str.strip()\n",
    "\n",
    "coach_career[\"role_1\"] = coach_career.role_1.str.replace(')','')\n",
    "coach_career[\"role_2\"] = coach_career.role_2.str.replace(')','')\n",
    "coach_career[\"role\"] = coach_career.role.str.replace(')','')\n",
    "\n",
    "coach_career[\"role\"] = (coach_career.role).where(coach_career.role.notna(), \"HC\")\n",
    "coach_career[\"coach_role\"] = coach_career.role.str.split(\"/\",expand=False)\n",
    "\n",
    "coach_career[\"year\"] = coach_career.i_label.str.split(\"–\")\n",
    "\n",
    "\n",
    "coach_career.drop(coach_career.columns[0], axis=1, inplace=True)\n",
    "\n",
    "# coach_career.to_csv('coach_career.csv', index=False)\n",
    "# print(coach_career.head())\n",
    "print(coach_career.columns)\n",
    "\n",
    "\n",
    "\n",
    "\n",
    "\n",
    "\n",
    "\n",
    "\n"
   ]
  }
 ],
 "metadata": {
  "kernelspec": {
   "display_name": "venv_sunbiz",
   "language": "python",
   "name": "python3"
  },
  "language_info": {
   "codemirror_mode": {
    "name": "ipython",
    "version": 3
   },
   "file_extension": ".py",
   "mimetype": "text/x-python",
   "name": "python",
   "nbconvert_exporter": "python",
   "pygments_lexer": "ipython3",
   "version": "3.9.7"
  },
  "orig_nbformat": 4,
  "vscode": {
   "interpreter": {
    "hash": "6e16651120bc2828509cf0f9ed4e311eb58fe28d51ced9e067f144123d1b5e1f"
   }
  }
 },
 "nbformat": 4,
 "nbformat_minor": 2
}
